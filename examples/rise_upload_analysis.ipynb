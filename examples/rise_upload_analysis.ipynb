{
 "cells": [
  {
   "cell_type": "markdown",
   "id": "97f403e0-265e-4af1-9583-52ba268b684c",
   "metadata": {},
   "source": [
    "# Flywheel Software Development Kit (SDK) Analysis Derivatives Upload Example (RISE Project)\n",
    "**Date modified:** 16-Aug-2022\n",
    "**Authors:** Amy Hegarty, Intermountain Neuroimaging Consortium\n",
    "\n",
    "**Description:**\n",
    "This workbook outlines an example upload for previously generated analysis results on a remote system. For example, you want to save the details of an analysis ran on your local computer within flywheel's project heiarchy. This example we will show how to upload a test job, followed by a working example to upload an fmriprep analysis. "
   ]
  },
  {
   "cell_type": "markdown",
   "id": "7679c5c5-e9d7-4c8b-845c-9b8672da4cb2",
   "metadata": {},
   "source": [
    "## Install and Import Dependencies "
   ]
  },
  {
   "cell_type": "code",
   "execution_count": null,
   "id": "4fd62363-8a64-4b8f-9b25-ddd479889c9a",
   "metadata": {},
   "outputs": [],
   "source": [
    "# Install specific packages required for this notebook\n",
    "!pip install flywheel-sdk \n",
    "!pip install flywheel-gear-toolkit\n",
    "!pip install pandas"
   ]
  },
  {
   "cell_type": "code",
   "execution_count": null,
   "id": "4042e6f4-bc35-4a15-8f4d-2409fdb1ec7f",
   "metadata": {},
   "outputs": [],
   "source": [
    "# Set long timeout window for large uploads\n",
    "!export FLYWHEEL_SDK_REQUEST_TIMEOUT=600"
   ]
  },
  {
   "cell_type": "code",
   "execution_count": null,
   "id": "9911cc33-bddc-4d22-8b23-563e4a445c9f",
   "metadata": {},
   "outputs": [],
   "source": [
    " # Import packages\n",
    "from getpass import getpass\n",
    "from pathlib import Path\n",
    "import os, sys\n",
    "import logging\n",
    "import pandas as pd\n",
    "import flywheel\n",
    "from flywheel_gear_toolkit.utils.zip_tools import unzip_archive, zip_output\n",
    "from zip_htmls import zip_htmls  ## note, this is a local python script that needs\n",
    "                                 ## to be placed in the current working directory to be found and imported\n",
    "from datetime import datetime as dt"
   ]
  },
  {
   "cell_type": "markdown",
   "id": "d1c714d3-b0e7-4be3-8d48-122d0d853462",
   "metadata": {},
   "source": [
    "## Getting Started"
   ]
  },
  {
   "cell_type": "code",
   "execution_count": null,
   "id": "180039dd-a268-45bc-beb5-c8b727db1fff",
   "metadata": {},
   "outputs": [],
   "source": [
    "# Instantiate a logger\n",
    "logging.basicConfig(level=logging.INFO, format='%(asctime)s %(levelname)s %(message)s')\n",
    "log = logging.getLogger('root')"
   ]
  },
  {
   "cell_type": "code",
   "execution_count": null,
   "id": "94e8d371-4535-4a96-9588-edd68e700f17",
   "metadata": {},
   "outputs": [],
   "source": [
    "# create the flywheel client, using CLI credentials \n",
    "#  (you need to be logged into Flywheel from the CLI to use this method)\n",
    "fw = flywheel.Client()\n",
    "\n",
    "# who am I logged in as?\n",
    "log.info('You are now logged in as %s to %s', fw.get_current_user()['email'], fw.get_config()['site']['api_url'])"
   ]
  },
  {
   "cell_type": "markdown",
   "id": "fad7d465-1c0a-4833-9bbb-458f5cdc2cdf",
   "metadata": {},
   "source": [
    "## Add Supporting Functions "
   ]
  },
  {
   "cell_type": "code",
   "execution_count": null,
   "id": "cae50d13-8388-4874-afeb-770a67bea560",
   "metadata": {},
   "outputs": [],
   "source": [
    "# supporting functions\n",
    "def analysis_exists(session, analysis_name, exclude_list=[]):\n",
    "    # Returns True if analysis already exists with a running or complete status, else false\n",
    "    # make sure to pass full session object (use fw.get_session(session.id))\n",
    "    #\n",
    "    #Get all analyses for the session\n",
    "    flag=False\n",
    "    for analysis in session.analyses:\n",
    "        #only print ones that match the  analysis label\n",
    "        if analysis_name in analysis.label:\n",
    "            #filter for only successful job\n",
    "            analysis_job=analysis.job\n",
    "            if any(analysis_job.state in string for string in [\"complete\",\"running\",\"pending\"]):\n",
    "                if analysis_job.failure_reason is None:\n",
    "                    flag=True\n",
    "                    \n",
    "        #check if session is in exclude list\n",
    "        if any(session.id in string for string in exclude_list):\n",
    "            flag=True\n",
    "    \n",
    "    return flag"
   ]
  },
  {
   "cell_type": "code",
   "execution_count": null,
   "id": "ffdfc889-275d-4ad4-867d-16991b385247",
   "metadata": {},
   "outputs": [],
   "source": [
    "def printfile(filename):\n",
    "    print(filename)\n",
    "    f = open(filename, 'r')\n",
    "    print(f.read())"
   ]
  },
  {
   "cell_type": "code",
   "execution_count": null,
   "id": "c5fd2d11-61f5-436b-b415-fddbcbaffd41",
   "metadata": {},
   "outputs": [],
   "source": []
  },
  {
   "cell_type": "markdown",
   "id": "081884c4-6f29-4294-ad75-22038c94ad75",
   "metadata": {},
   "source": [
    "## Accessing Your Flywheel Project"
   ]
  },
  {
   "cell_type": "code",
   "execution_count": null,
   "id": "9e1cfc11-cb32-43b5-be49-ed43fe363249",
   "metadata": {},
   "outputs": [],
   "source": [
    "# locate your project using the lookup function\n",
    "project = fw.lookup('ics/sandbox')\n",
    "\n",
    "# this will shows all the property available in the project\n",
    "project.keys()\n",
    "\n",
    "# list sessions in the project\n",
    "for session in project.sessions.find():\n",
    "    print('%s: Subject: %s Session: %s\\tScanning Date: %s' % (session.id, session.subject.label, session.label, session.timestamp))\n",
    "    "
   ]
  },
  {
   "cell_type": "code",
   "execution_count": null,
   "id": "b05b6713-e189-400c-93fb-6ce1283afb46",
   "metadata": {},
   "outputs": [],
   "source": [
    "# list all sessions with a specific analysis run / uploaded\n",
    "analysisname = 'fmriprep'\n",
    "has_anlys = []\n",
    "for session in project.sessions.find():\n",
    "    full_session = fw.get_session(session.id)\n",
    "    flag = analysis_exists(full_session, analysisname)\n",
    "    if flag:\n",
    "        has_anlys.append([session.subject.label,session.label])\n",
    "        \n",
    "print(has_anlys)"
   ]
  },
  {
   "cell_type": "code",
   "execution_count": null,
   "id": "9f23132e-0d5d-45ea-9b5d-e5f7f3b10f17",
   "metadata": {},
   "outputs": [],
   "source": [
    "# add a new analysis\n",
    "sess=fw.lookup('ics/sandbox/10462/S1')\n",
    "analysis = sess.add_analysis(label='test-upload'+dt.now().strftime(\" %x %X\"))"
   ]
  },
  {
   "cell_type": "markdown",
   "id": "a7dd53c9-d3a6-4f8a-8032-adcb36a72246",
   "metadata": {},
   "source": [
    "## Adding Analysis Derivative Datasets To Flywheel\n",
    "Here are some considerations to keep in mind when uploading analyses computed on a remote system...\n",
    "1. Include a full copy of all software / scripts used to generate the analysis (if it is not stored in a public, stable repository)\n",
    "2. Include all configuration settings for the analysis (e.g. command line aurguments)\n",
    "3. Include any logs or notes regarded the status of the analysis\n",
    "4. All data files should be zipped into a single outputs folder, preferably in the same directory structure so the derivative dataset can be easily reconstructed at download. (Consider including a list of all files included in the upload and the upload data file size)\n",
    "\n",
    "In the following example we show an example of best practice to upload an fmriprep analysis which was executed on a remote system. Since fmirprep is a publically availible software, the underlying docker image does not need to be retained. However all scripts including if possible compute configuration, command line aurguments and logs should be included in the analysis upload.\n",
    "\n",
    "We will include the following files:\n",
    "- analysis_configuration.txt \n",
    "- analysis_information.txt\n",
    "- bids-fmriprep.zip\n",
    "- logs.zip\n",
    "- run_script[.sh,.zip]\n",
    "- report.html.zip\n",
    "\n",
    "Lets look at some examples of these upload files..."
   ]
  },
  {
   "cell_type": "code",
   "execution_count": null,
   "id": "dcf3bbb2-354c-4b42-a897-c115a041c057",
   "metadata": {},
   "outputs": [],
   "source": [
    "# Look at the contents of \"Analysis Configuration\"\n",
    "path = '<path-to-files>'\n",
    "printfile(path+'analysis_configuration.txt')"
   ]
  },
  {
   "cell_type": "code",
   "execution_count": null,
   "id": "a56ca340-acde-4775-a622-4ad6e3f9d6ce",
   "metadata": {},
   "outputs": [],
   "source": [
    "# Look at the contents of \"Analysis Information\"\n",
    "printfile(path+'analysis_information.txt')"
   ]
  },
  {
   "cell_type": "code",
   "execution_count": null,
   "id": "8c526501-8173-42a8-9deb-4642e16303bb",
   "metadata": {},
   "outputs": [],
   "source": [
    "# Look at the contents of \"run_script\"\n",
    "printfile(path+'run_script.sh')"
   ]
  },
  {
   "cell_type": "markdown",
   "id": "55085187-2a08-470b-afa0-f87db422385e",
   "metadata": {},
   "source": [
    "Next we zip the output directory, logs, and any other directories you choose to upload..."
   ]
  },
  {
   "cell_type": "code",
   "execution_count": null,
   "id": "fdabc44e-5d08-40d5-aeca-60434221634e",
   "metadata": {},
   "outputs": [],
   "source": [
    "# select a session to attach fmriprep\n",
    "sess = fw.lookup('ics/sandbox/10462/S1')\n",
    "\n",
    "# locate fmriprep directory of interest\n",
    "subid = sess.subject.label\n",
    "sesid = sess.label\n",
    "\n",
    "# we need to split the 'base' path and 'relative' path so that we can zip \n",
    "#    the contents of the fmriprep directory in a way that it can \n",
    "#    be easily reconstructed at download\n",
    "basepath = '<path_to_local_directory>'\n",
    "relativepath = 'fmriprep/sub-'+subid+'/ses-'+sesid\n",
    "uploadspath = basepath + '/uploads/'\n",
    "\n",
    "# make new upload path if it doesn't exist\n",
    "os.system('mkdir -p '+uploadspath)\n",
    "\n",
    "#zip output directory except for scratch\n",
    "log.info('Zipping contents of directory %s', basepath+'/'+relativepath)\n",
    "zip_output(basepath,relativepath,uploadspath+'/bids-fmriprep.zip',exclude_files=['scratch'])"
   ]
  },
  {
   "cell_type": "code",
   "execution_count": null,
   "id": "fb66eef5-4898-4024-8d26-e6a138a07d33",
   "metadata": {},
   "outputs": [],
   "source": [
    "#zip logs\n",
    "logspath = 'path_to_analysis_logs_if_presnt>\n",
    "log.info('Zipping contents of directory %s', basepath+'/'+logspath)\n",
    "zip_output(basepath,logspath,uploadspath+'/logs.zip')"
   ]
  },
  {
   "cell_type": "code",
   "execution_count": null,
   "id": "1291bbb6-5a21-4d25-a51b-537f2dd82416",
   "metadata": {},
   "outputs": [],
   "source": [
    "# upload fmriprep report as html\n",
    "suffix = 'upload' # this suffix is attached to html name, typically is the jobID\n",
    "zip_htmls(uploadspath,suffix,relativepath)"
   ]
  },
  {
   "cell_type": "markdown",
   "id": "6e615a1a-c19e-41e6-944e-6cfdaa9f9380",
   "metadata": {},
   "source": [
    "Once all analysis related files have been created, you are ready to create a new flywheel analysis and upload all analysis files."
   ]
  },
  {
   "cell_type": "code",
   "execution_count": null,
   "id": "9bad1d6a-f28e-464c-bbac-4c92f2003e33",
   "metadata": {},
   "outputs": [],
   "source": [
    "# create an analysis for the desired flywheel session\n",
    "analysis = session_object.add_analysis(label='bids-fmriprep: upload '+dt.now().strftime(\" %x %X\"))\n",
    "log.info('Creating analysis %s', analysis.label)\n",
    "\n",
    "# list of all files to attached to analysis \n",
    "uploadlist=[\n",
    "              uploadspath+'/analysis_configuration.txt',\n",
    "              uploadspath+'/analysis_information.txt',\n",
    "              uploadspath+'/bids-fmriprep.zip',\n",
    "              uploadspath+'/logs.zip',\n",
    "              uploadspath+'/run_script.sh',\n",
    "              uploadspath+'/report.html.zip'\n",
    "           ]\n",
    "\n",
    "for file in uploadlist:\n",
    "    log.info('Uploading %s', file)\n",
    "    #upload output file to analysis container\n",
    "    analysis.upload_output(file)"
   ]
  },
  {
   "cell_type": "markdown",
   "id": "6c366c45-4889-4bca-8c6c-8525f18cdc6b",
   "metadata": {},
   "source": [
    "***Thanks All!*** Check Flywheel to ensure your analysis made it to the correct spot!"
   ]
  }
 ],
 "metadata": {
  "kernelspec": {
   "display_name": "Python 3 (ipykernel)",
   "language": "python",
   "name": "python3"
  },
  "language_info": {
   "codemirror_mode": {
    "name": "ipython",
    "version": 3
   },
   "file_extension": ".py",
   "mimetype": "text/x-python",
   "name": "python",
   "nbconvert_exporter": "python",
   "pygments_lexer": "ipython3",
   "version": "3.9.5"
  }
 },
 "nbformat": 4,
 "nbformat_minor": 5
}
